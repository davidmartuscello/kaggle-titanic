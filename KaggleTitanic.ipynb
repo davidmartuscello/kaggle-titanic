{
 "cells": [
  {
   "cell_type": "code",
   "execution_count": 22,
   "metadata": {
    "collapsed": true
   },
   "outputs": [],
   "source": [
    "import sklearn as sk\n",
    "import pandas as pd\n",
    "import numpy as np\n",
    "import matplotlib.pyplot as plt\n",
    "\n",
    "from sklearn.svm import SVC, LinearSVC\n",
    "from sklearn.model_selection import train_test_split\n",
    "from sklearn.ensemble import RandomForestClassifier"
   ]
  },
  {
   "cell_type": "code",
   "execution_count": 23,
   "metadata": {},
   "outputs": [
    {
     "data": {
      "text/html": [
       "<div>\n",
       "<style>\n",
       "    .dataframe thead tr:only-child th {\n",
       "        text-align: right;\n",
       "    }\n",
       "\n",
       "    .dataframe thead th {\n",
       "        text-align: left;\n",
       "    }\n",
       "\n",
       "    .dataframe tbody tr th {\n",
       "        vertical-align: top;\n",
       "    }\n",
       "</style>\n",
       "<table border=\"1\" class=\"dataframe\">\n",
       "  <thead>\n",
       "    <tr style=\"text-align: right;\">\n",
       "      <th></th>\n",
       "      <th>PassengerId</th>\n",
       "      <th>Survived</th>\n",
       "      <th>Pclass</th>\n",
       "      <th>Name</th>\n",
       "      <th>Sex</th>\n",
       "      <th>Age</th>\n",
       "      <th>SibSp</th>\n",
       "      <th>Parch</th>\n",
       "      <th>Ticket</th>\n",
       "      <th>Fare</th>\n",
       "      <th>Cabin</th>\n",
       "      <th>Embarked</th>\n",
       "    </tr>\n",
       "  </thead>\n",
       "  <tbody>\n",
       "    <tr>\n",
       "      <th>0</th>\n",
       "      <td>1</td>\n",
       "      <td>0</td>\n",
       "      <td>3</td>\n",
       "      <td>Braund, Mr. Owen Harris</td>\n",
       "      <td>male</td>\n",
       "      <td>22.0</td>\n",
       "      <td>1</td>\n",
       "      <td>0</td>\n",
       "      <td>A/5 21171</td>\n",
       "      <td>7.2500</td>\n",
       "      <td>NaN</td>\n",
       "      <td>S</td>\n",
       "    </tr>\n",
       "    <tr>\n",
       "      <th>1</th>\n",
       "      <td>2</td>\n",
       "      <td>1</td>\n",
       "      <td>1</td>\n",
       "      <td>Cumings, Mrs. John Bradley (Florence Briggs Th...</td>\n",
       "      <td>female</td>\n",
       "      <td>38.0</td>\n",
       "      <td>1</td>\n",
       "      <td>0</td>\n",
       "      <td>PC 17599</td>\n",
       "      <td>71.2833</td>\n",
       "      <td>C85</td>\n",
       "      <td>C</td>\n",
       "    </tr>\n",
       "    <tr>\n",
       "      <th>2</th>\n",
       "      <td>3</td>\n",
       "      <td>1</td>\n",
       "      <td>3</td>\n",
       "      <td>Heikkinen, Miss. Laina</td>\n",
       "      <td>female</td>\n",
       "      <td>26.0</td>\n",
       "      <td>0</td>\n",
       "      <td>0</td>\n",
       "      <td>STON/O2. 3101282</td>\n",
       "      <td>7.9250</td>\n",
       "      <td>NaN</td>\n",
       "      <td>S</td>\n",
       "    </tr>\n",
       "    <tr>\n",
       "      <th>3</th>\n",
       "      <td>4</td>\n",
       "      <td>1</td>\n",
       "      <td>1</td>\n",
       "      <td>Futrelle, Mrs. Jacques Heath (Lily May Peel)</td>\n",
       "      <td>female</td>\n",
       "      <td>35.0</td>\n",
       "      <td>1</td>\n",
       "      <td>0</td>\n",
       "      <td>113803</td>\n",
       "      <td>53.1000</td>\n",
       "      <td>C123</td>\n",
       "      <td>S</td>\n",
       "    </tr>\n",
       "    <tr>\n",
       "      <th>4</th>\n",
       "      <td>5</td>\n",
       "      <td>0</td>\n",
       "      <td>3</td>\n",
       "      <td>Allen, Mr. William Henry</td>\n",
       "      <td>male</td>\n",
       "      <td>35.0</td>\n",
       "      <td>0</td>\n",
       "      <td>0</td>\n",
       "      <td>373450</td>\n",
       "      <td>8.0500</td>\n",
       "      <td>NaN</td>\n",
       "      <td>S</td>\n",
       "    </tr>\n",
       "  </tbody>\n",
       "</table>\n",
       "</div>"
      ],
      "text/plain": [
       "   PassengerId  Survived  Pclass  \\\n",
       "0            1         0       3   \n",
       "1            2         1       1   \n",
       "2            3         1       3   \n",
       "3            4         1       1   \n",
       "4            5         0       3   \n",
       "\n",
       "                                                Name     Sex   Age  SibSp  \\\n",
       "0                            Braund, Mr. Owen Harris    male  22.0      1   \n",
       "1  Cumings, Mrs. John Bradley (Florence Briggs Th...  female  38.0      1   \n",
       "2                             Heikkinen, Miss. Laina  female  26.0      0   \n",
       "3       Futrelle, Mrs. Jacques Heath (Lily May Peel)  female  35.0      1   \n",
       "4                           Allen, Mr. William Henry    male  35.0      0   \n",
       "\n",
       "   Parch            Ticket     Fare Cabin Embarked  \n",
       "0      0         A/5 21171   7.2500   NaN        S  \n",
       "1      0          PC 17599  71.2833   C85        C  \n",
       "2      0  STON/O2. 3101282   7.9250   NaN        S  \n",
       "3      0            113803  53.1000  C123        S  \n",
       "4      0            373450   8.0500   NaN        S  "
      ]
     },
     "execution_count": 23,
     "metadata": {},
     "output_type": "execute_result"
    }
   ],
   "source": [
    "train_raw = pd.read_csv('/home/david/kaggle/kaggle-titanic/train.csv')\n",
    "train = train_raw.copy()\n",
    "train.head()"
   ]
  },
  {
   "cell_type": "code",
   "execution_count": 24,
   "metadata": {
    "collapsed": true
   },
   "outputs": [],
   "source": [
    "#Data Preprocessing\n",
    "def cleanData(df):\n",
    "\n",
    "    df.columns = df.columns.str.strip() #Strip any stray spaces in the column titles\n",
    "\n",
    "    df = df.drop(['Ticket', 'Name', 'Cabin'], axis=1) #Drop columns that aren't expected to have any predictive power\n",
    "    df['Age'] = df['Age'].fillna(df['Age'].median()) #Fill Nan values with Median\n",
    "\n",
    "    #train = train.fillna(0, axis=0) #fill all rows that include null values\n",
    "    df = df.set_index(df.PassengerId).drop('PassengerId', axis=1)\n",
    "\n",
    "    \n",
    "    #Convert categorical features to dummy features\n",
    "    df['Sex'] = pd.get_dummies(df['Sex'])\n",
    "    df = pd.concat([df, pd.get_dummies(df['Embarked'])], axis=1) \n",
    "    df = df.drop('Embarked', axis=1)\n",
    "    \n",
    "    return df.astype(float)"
   ]
  },
  {
   "cell_type": "code",
   "execution_count": 25,
   "metadata": {},
   "outputs": [
    {
     "data": {
      "text/html": [
       "<div>\n",
       "<style>\n",
       "    .dataframe thead tr:only-child th {\n",
       "        text-align: right;\n",
       "    }\n",
       "\n",
       "    .dataframe thead th {\n",
       "        text-align: left;\n",
       "    }\n",
       "\n",
       "    .dataframe tbody tr th {\n",
       "        vertical-align: top;\n",
       "    }\n",
       "</style>\n",
       "<table border=\"1\" class=\"dataframe\">\n",
       "  <thead>\n",
       "    <tr style=\"text-align: right;\">\n",
       "      <th></th>\n",
       "      <th>Survived</th>\n",
       "      <th>Pclass</th>\n",
       "      <th>Sex</th>\n",
       "      <th>Age</th>\n",
       "      <th>SibSp</th>\n",
       "      <th>Parch</th>\n",
       "      <th>Fare</th>\n",
       "      <th>C</th>\n",
       "      <th>Q</th>\n",
       "      <th>S</th>\n",
       "    </tr>\n",
       "    <tr>\n",
       "      <th>PassengerId</th>\n",
       "      <th></th>\n",
       "      <th></th>\n",
       "      <th></th>\n",
       "      <th></th>\n",
       "      <th></th>\n",
       "      <th></th>\n",
       "      <th></th>\n",
       "      <th></th>\n",
       "      <th></th>\n",
       "      <th></th>\n",
       "    </tr>\n",
       "  </thead>\n",
       "  <tbody>\n",
       "    <tr>\n",
       "      <th>1</th>\n",
       "      <td>0.0</td>\n",
       "      <td>3.0</td>\n",
       "      <td>0.0</td>\n",
       "      <td>22.0</td>\n",
       "      <td>1.0</td>\n",
       "      <td>0.0</td>\n",
       "      <td>7.2500</td>\n",
       "      <td>0.0</td>\n",
       "      <td>0.0</td>\n",
       "      <td>1.0</td>\n",
       "    </tr>\n",
       "    <tr>\n",
       "      <th>2</th>\n",
       "      <td>1.0</td>\n",
       "      <td>1.0</td>\n",
       "      <td>1.0</td>\n",
       "      <td>38.0</td>\n",
       "      <td>1.0</td>\n",
       "      <td>0.0</td>\n",
       "      <td>71.2833</td>\n",
       "      <td>1.0</td>\n",
       "      <td>0.0</td>\n",
       "      <td>0.0</td>\n",
       "    </tr>\n",
       "    <tr>\n",
       "      <th>3</th>\n",
       "      <td>1.0</td>\n",
       "      <td>3.0</td>\n",
       "      <td>1.0</td>\n",
       "      <td>26.0</td>\n",
       "      <td>0.0</td>\n",
       "      <td>0.0</td>\n",
       "      <td>7.9250</td>\n",
       "      <td>0.0</td>\n",
       "      <td>0.0</td>\n",
       "      <td>1.0</td>\n",
       "    </tr>\n",
       "    <tr>\n",
       "      <th>4</th>\n",
       "      <td>1.0</td>\n",
       "      <td>1.0</td>\n",
       "      <td>1.0</td>\n",
       "      <td>35.0</td>\n",
       "      <td>1.0</td>\n",
       "      <td>0.0</td>\n",
       "      <td>53.1000</td>\n",
       "      <td>0.0</td>\n",
       "      <td>0.0</td>\n",
       "      <td>1.0</td>\n",
       "    </tr>\n",
       "    <tr>\n",
       "      <th>5</th>\n",
       "      <td>0.0</td>\n",
       "      <td>3.0</td>\n",
       "      <td>0.0</td>\n",
       "      <td>35.0</td>\n",
       "      <td>0.0</td>\n",
       "      <td>0.0</td>\n",
       "      <td>8.0500</td>\n",
       "      <td>0.0</td>\n",
       "      <td>0.0</td>\n",
       "      <td>1.0</td>\n",
       "    </tr>\n",
       "  </tbody>\n",
       "</table>\n",
       "</div>"
      ],
      "text/plain": [
       "             Survived  Pclass  Sex   Age  SibSp  Parch     Fare    C    Q    S\n",
       "PassengerId                                                                   \n",
       "1                 0.0     3.0  0.0  22.0    1.0    0.0   7.2500  0.0  0.0  1.0\n",
       "2                 1.0     1.0  1.0  38.0    1.0    0.0  71.2833  1.0  0.0  0.0\n",
       "3                 1.0     3.0  1.0  26.0    0.0    0.0   7.9250  0.0  0.0  1.0\n",
       "4                 1.0     1.0  1.0  35.0    1.0    0.0  53.1000  0.0  0.0  1.0\n",
       "5                 0.0     3.0  0.0  35.0    0.0    0.0   8.0500  0.0  0.0  1.0"
      ]
     },
     "execution_count": 25,
     "metadata": {},
     "output_type": "execute_result"
    }
   ],
   "source": [
    "train = cleanData(train)\n",
    "train = train.dropna(axis=0)\n",
    "train.head()"
   ]
  },
  {
   "cell_type": "code",
   "execution_count": 26,
   "metadata": {},
   "outputs": [
    {
     "name": "stdout",
     "output_type": "stream",
     "text": [
      "<class 'pandas.core.frame.DataFrame'>\n",
      "Int64Index: 891 entries, 1 to 891\n",
      "Data columns (total 10 columns):\n",
      "Survived    891 non-null float64\n",
      "Pclass      891 non-null float64\n",
      "Sex         891 non-null float64\n",
      "Age         891 non-null float64\n",
      "SibSp       891 non-null float64\n",
      "Parch       891 non-null float64\n",
      "Fare        891 non-null float64\n",
      "C           891 non-null float64\n",
      "Q           891 non-null float64\n",
      "S           891 non-null float64\n",
      "dtypes: float64(10)\n",
      "memory usage: 76.6 KB\n"
     ]
    }
   ],
   "source": [
    "train.info()"
   ]
  },
  {
   "cell_type": "code",
   "execution_count": 27,
   "metadata": {
    "collapsed": true
   },
   "outputs": [],
   "source": [
    "X_train = train.drop('Survived', axis=1)\n",
    "y_train = train['Survived']\n",
    "\n",
    "#X_fit, X_val, y_fit, y_val = train_test_split(X_train, y_train, test_size=0.9, random_state=42)"
   ]
  },
  {
   "cell_type": "code",
   "execution_count": 28,
   "metadata": {},
   "outputs": [
    {
     "data": {
      "text/plain": [
       "Pipeline(steps=[('scaler', StandardScaler(copy=True, with_mean=True, with_std=True)), ('linearSVC', LinearSVC(C=1, class_weight=None, dual=True, fit_intercept=True,\n",
       "     intercept_scaling=1, loss='hinge', max_iter=1000, multi_class='ovr',\n",
       "     penalty='l2', random_state=None, tol=0.0001, verbose=0))])"
      ]
     },
     "execution_count": 28,
     "metadata": {},
     "output_type": "execute_result"
    }
   ],
   "source": [
    "from sklearn.pipeline import Pipeline\n",
    "from sklearn.preprocessing import StandardScaler\n",
    "\n",
    "SVCpipe = Pipeline([\n",
    "    ('scaler', StandardScaler()),\n",
    "    ('linearSVC', LinearSVC(C=1, loss=\"hinge\"))\n",
    "])\n",
    "\n",
    "SVCpipe.fit(X_train, y_train)"
   ]
  },
  {
   "cell_type": "code",
   "execution_count": 29,
   "metadata": {},
   "outputs": [
    {
     "name": "stdout",
     "output_type": "stream",
     "text": [
      "Training Accuracy: \n",
      "0.786756453423\n"
     ]
    }
   ],
   "source": [
    "from sklearn.metrics import accuracy_score\n",
    "\n",
    "print(\"Training Accuracy: \")\n",
    "print(accuracy_score(y_train, SVCpipe.predict(X_train)))"
   ]
  },
  {
   "cell_type": "code",
   "execution_count": 31,
   "metadata": {},
   "outputs": [],
   "source": [
    "X_test = pd.read_csv('/home/david/kaggle/kaggle-titanic/test.csv')\n",
    "X_test_clean = cleanData(X_test)\n",
    "X_test_clean = X_test_clean.fillna(0, axis=0) #fill all rows that include null values\n",
    "\n",
    "predictions = SVCpipe.predict(X_test_clean)\n",
    "\n",
    "outputDF = pd.DataFrame(data={'Survived':predictions}, index=X_test_clean.index)\n",
    "outputDF = outputDF.astype(int)\n",
    "\n",
    "outputDF.to_csv('/home/david/kaggle/kaggle-titanic/submission.csv')"
   ]
  },
  {
   "cell_type": "markdown",
   "metadata": {},
   "source": [
    "### Trying to do other things:"
   ]
  },
  {
   "cell_type": "code",
   "execution_count": 36,
   "metadata": {},
   "outputs": [
    {
     "name": "stdout",
     "output_type": "stream",
     "text": [
      "Scores: [ 0.43461349  0.45946829  0.47404546  0.39661489  0.44971901  0.47404546\n",
      "  0.48575205  0.50835712  0.43704832  0.48850421]\n",
      "Mean: 0.460816832446\n",
      "Standard Deviation: 0.0308169684602\n"
     ]
    }
   ],
   "source": [
    "from sklearn.model_selection import cross_val_score\n",
    "\n",
    "scores = cross_val_score(SVCpipe, X_train, y_train, scoring=\"neg_mean_squared_error\", cv=10)\n",
    "rmse_scores = np.sqrt(-scores)\n",
    "\n",
    "print(\"Scores:\", rmse_scores)\n",
    "print(\"Mean:\", rmse_scores.mean())\n",
    "print(\"Standard Deviation:\", rmse_scores.std())"
   ]
  },
  {
   "cell_type": "code",
   "execution_count": 37,
   "metadata": {},
   "outputs": [
    {
     "data": {
      "text/plain": [
       "RandomizedSearchCV(cv=5, error_score='raise',\n",
       "          estimator=RandomForestClassifier(bootstrap=True, class_weight=None, criterion='gini',\n",
       "            max_depth=None, max_features='auto', max_leaf_nodes=None,\n",
       "            min_impurity_split=1e-07, min_samples_leaf=1,\n",
       "            min_samples_split=2, min_weight_fraction_leaf=0.0,\n",
       "            n_estimators=10, n_jobs=1, oob_score=False, random_state=None,\n",
       "            verbose=0, warm_start=False),\n",
       "          fit_params={}, iid=True, n_iter=10, n_jobs=1,\n",
       "          param_distributions={'n_estimators': [3, 10, 30], 'max_features': [1, 2, 4, 6, 8, 9]},\n",
       "          pre_dispatch='2*n_jobs', random_state=None, refit=True,\n",
       "          return_train_score=True, scoring='neg_mean_squared_error',\n",
       "          verbose=0)"
      ]
     },
     "execution_count": 37,
     "metadata": {},
     "output_type": "execute_result"
    }
   ],
   "source": [
    "from sklearn.model_selection import GridSearchCV, RandomizedSearchCV\n",
    "from sklearn.ensemble import RandomForestClassifier\n",
    "\n",
    "param_grid = [\n",
    "    {'n_estimators': [3, 10, 30], 'max_features': [1, 2, 4, 6, 8, 9]},\n",
    "    {'bootstrap': [False], 'n_estimators': [3,10], 'max_features': [1, 2,3,4]},\n",
    "   ]\n",
    "\n",
    "forest_clf = RandomForestClassifier()\n",
    "\n",
    "rand_search = RandomizedSearchCV(forest_clf, param_grid[0], cv=5, scoring='neg_mean_squared_error')\n",
    "\n",
    "rand_search.fit(X_train, y_train)"
   ]
  },
  {
   "cell_type": "code",
   "execution_count": 34,
   "metadata": {},
   "outputs": [
    {
     "data": {
      "text/plain": [
       "{'mean_fit_time': array([ 0.04432187,  0.0053503 ,  0.01226263,  0.00514078,  0.03592305,\n",
       "         0.01576514,  0.00452013,  0.00489163,  0.00443573,  0.013588  ]),\n",
       " 'mean_score_time': array([ 0.00266676,  0.00056505,  0.00114641,  0.00056911,  0.00266638,\n",
       "         0.001122  ,  0.00061479,  0.0006073 ,  0.00060105,  0.00114636]),\n",
       " 'mean_test_score': array([-0.19753086, -0.1952862 , -0.21099888, -0.21885522, -0.18181818,\n",
       "        -0.18518519, -0.23681257, -0.22783389, -0.22783389, -0.19304153]),\n",
       " 'mean_train_score': array([-0.01963812, -0.05976453, -0.03423148, -0.05330622, -0.01907672,\n",
       "        -0.03619383, -0.05667661, -0.05443375, -0.05723487, -0.03226361]),\n",
       " 'param_max_features': masked_array(data = [8 9 1 8 2 9 1 4 2 4],\n",
       "              mask = [False False False False False False False False False False],\n",
       "        fill_value = ?),\n",
       " 'param_n_estimators': masked_array(data = [30 3 10 3 30 10 3 3 3 10],\n",
       "              mask = [False False False False False False False False False False],\n",
       "        fill_value = ?),\n",
       " 'params': ({'max_features': 8, 'n_estimators': 30},\n",
       "  {'max_features': 9, 'n_estimators': 3},\n",
       "  {'max_features': 1, 'n_estimators': 10},\n",
       "  {'max_features': 8, 'n_estimators': 3},\n",
       "  {'max_features': 2, 'n_estimators': 30},\n",
       "  {'max_features': 9, 'n_estimators': 10},\n",
       "  {'max_features': 1, 'n_estimators': 3},\n",
       "  {'max_features': 4, 'n_estimators': 3},\n",
       "  {'max_features': 2, 'n_estimators': 3},\n",
       "  {'max_features': 4, 'n_estimators': 10}),\n",
       " 'rank_test_score': array([ 5,  4,  6,  7,  1,  2, 10,  8,  8,  3], dtype=int32),\n",
       " 'split0_test_score': array([-0.24022346, -0.25698324, -0.21787709, -0.2849162 , -0.2122905 ,\n",
       "        -0.21787709, -0.27374302, -0.29608939, -0.25698324, -0.21787709]),\n",
       " 'split0_train_score': array([-0.01966292, -0.06601124, -0.04213483, -0.05477528, -0.01966292,\n",
       "        -0.03792135, -0.05758427, -0.05617978, -0.0505618 , -0.03089888]),\n",
       " 'split1_test_score': array([-0.18435754, -0.18994413, -0.25139665, -0.20670391, -0.17318436,\n",
       "        -0.17877095, -0.25698324, -0.2122905 , -0.22905028, -0.18994413]),\n",
       " 'split1_train_score': array([-0.01544944, -0.04775281, -0.02949438, -0.04073034, -0.01404494,\n",
       "        -0.03230337, -0.05337079, -0.0505618 , -0.05337079, -0.02808989]),\n",
       " 'split2_test_score': array([-0.16853933, -0.16292135, -0.16292135, -0.19662921, -0.15730337,\n",
       "        -0.15730337, -0.21910112, -0.20786517, -0.19662921, -0.18539326]),\n",
       " 'split2_train_score': array([-0.01963534, -0.07713885, -0.03786816, -0.05329593, -0.01823282,\n",
       "        -0.04207574, -0.06171108, -0.05750351, -0.06451613, -0.02945302]),\n",
       " 'split3_test_score': array([-0.21910112, -0.20786517, -0.23595506, -0.20786517, -0.20786517,\n",
       "        -0.21348315, -0.19101124, -0.19662921, -0.2247191 , -0.20786517]),\n",
       " 'split3_train_score': array([-0.01823282, -0.05469846, -0.02524544, -0.05890603, -0.01823282,\n",
       "        -0.02945302, -0.05189341, -0.05750351, -0.05610098, -0.03366059]),\n",
       " 'split4_test_score': array([-0.17514124, -0.15819209, -0.18644068, -0.19774011, -0.15819209,\n",
       "        -0.15819209, -0.24293785, -0.2259887 , -0.23163842, -0.16384181]),\n",
       " 'split4_train_score': array([-0.02521008, -0.05322129, -0.03641457, -0.05882353, -0.02521008,\n",
       "        -0.03921569, -0.05882353, -0.05042017, -0.06162465, -0.03921569]),\n",
       " 'std_fit_time': array([  1.50647599e-03,   1.86555638e-04,   1.88020973e-04,\n",
       "          1.41877686e-04,   5.40328324e-04,   5.13743553e-04,\n",
       "          2.00095406e-04,   1.49383348e-04,   4.59752135e-05,\n",
       "          2.48057931e-04]),\n",
       " 'std_score_time': array([  1.07999501e-04,   2.50509749e-06,   4.02662371e-05,\n",
       "          1.08053867e-05,   5.07509326e-05,   2.77000940e-05,\n",
       "          1.68362011e-05,   1.17115710e-05,   4.25428544e-06,\n",
       "          1.42201443e-05]),\n",
       " 'std_test_score': array([ 0.02759491,  0.03584229,  0.0323012 ,  0.0334332 ,  0.02383287,\n",
       "         0.02613429,  0.02906779,  0.03548727,  0.01924418,  0.01872975]),\n",
       " 'std_train_score': array([ 0.00318017,  0.01052282,  0.00606042,  0.00666498,  0.00359736,\n",
       "         0.00463221,  0.00359406,  0.00325565,  0.00515817,  0.00393611])}"
      ]
     },
     "execution_count": 34,
     "metadata": {},
     "output_type": "execute_result"
    }
   ],
   "source": [
    "rand_search.cv_results_"
   ]
  },
  {
   "cell_type": "code",
   "execution_count": 35,
   "metadata": {},
   "outputs": [
    {
     "data": {
      "text/plain": [
       "array([ 0.08279464,  0.27754874,  0.25957838,  0.04880187,  0.03835303,\n",
       "        0.25855228,  0.01136197,  0.00746286,  0.01554621])"
      ]
     },
     "execution_count": 35,
     "metadata": {},
     "output_type": "execute_result"
    }
   ],
   "source": [
    "rand_search.best_estimator_.feature_importances_"
   ]
  },
  {
   "cell_type": "code",
   "execution_count": null,
   "metadata": {
    "collapsed": true
   },
   "outputs": [],
   "source": []
  }
 ],
 "metadata": {
  "kernelspec": {
   "display_name": "Python 3",
   "language": "python",
   "name": "python3"
  },
  "language_info": {
   "codemirror_mode": {
    "name": "ipython",
    "version": 3
   },
   "file_extension": ".py",
   "mimetype": "text/x-python",
   "name": "python",
   "nbconvert_exporter": "python",
   "pygments_lexer": "ipython3",
   "version": "3.6.1"
  }
 },
 "nbformat": 4,
 "nbformat_minor": 2
}
